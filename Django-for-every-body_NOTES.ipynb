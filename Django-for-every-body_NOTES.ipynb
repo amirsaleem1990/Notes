{
 "cells": [
  {
   "cell_type": "code",
   "execution_count": 2,
   "id": "a4470af2-df14-4c21-a979-26d1074d544d",
   "metadata": {},
   "outputs": [
    {
     "name": "stdout",
     "output_type": "stream",
     "text": [
      "/bin/bash: -c: line 0: syntax error near unexpected token `Screenshots/1.png'\n",
      "/bin/bash: -c: line 0: `[title](Screenshots/1.png)'\n"
     ]
    }
   ],
   "source": [
    "![title](Screenshots/1.png)\n",
    "$\\color{red}{\\text{}}$"
   ]
  },
  {
   "cell_type": "markdown",
   "id": "15bc3a9c-1330-4a1f-a1e4-efb510f9b417",
   "metadata": {},
   "source": [
    "- Each time the user clicks on an anchor tag with an href = value to switch to a new page, the browser makes a connection<br>to the web server and issues a **GET** request - to GET the content of the page at the specified URL.\n",
    "- The server returns the HTML document to the browser, which formats and displays the document to the user."
   ]
  },
  {
   "cell_type": "markdown",
   "id": "2771ef2b-2952-4282-943d-1e61db990d45",
   "metadata": {},
   "source": [
    "- In computer networking, an internet **socket** or network **socket** is an endpoint of a bidirectional **inter-process** communication flow across an **internet** Protocol-based computer network, such as the **internet**."
   ]
  },
  {
   "cell_type": "markdown",
   "id": "508a6998-a623-4f5b-aa84-43d4be72ff5a",
   "metadata": {},
   "source": [
    "**TCP Port Numbers**\n",
    "- A port is an application-specific of process-specific software communications endpoint.\n",
    "- It allows multiple networked applications to coexist on the same server.\n",
    "- There is a list of well-knows TCP port numbers."
   ]
  },
  {
   "cell_type": "markdown",
   "id": "bfc02610-4772-430a-b75a-00a8a26166b7",
   "metadata": {},
   "source": [
    "**IP address**\n",
    "- IPV4 (A 4 dotted number . eg: 192.168.0.0)\n",
    "- IPV6"
   ]
  },
  {
   "cell_type": "markdown",
   "id": "c96d6197-c488-4af0-b55a-95ceddec1425",
   "metadata": {},
   "source": [
    "![title](Screenshots/2.png)"
   ]
  },
  {
   "cell_type": "markdown",
   "id": "f79f01b2-c9ee-449a-bae2-c92d9ca19602",
   "metadata": {},
   "source": [
    "**HTTP** : HypterText Transfer Protocol\n",
    "- It's a protocol that browser use to talk to server.\n",
    "<br>\n",
    "<br>\n",
    "- The dominant Application Layer Protocol on ther internet.\n",
    "- Invented for the Web - to retrieve HTML, Images, Documents, etc.\n",
    "- Extended to handle data in addition to documents - RSS, Web Services, etc.\n",
    "- Basic Concept: Make a connection - Request a document - Retrieve the document - Close the connection.\n",
    "<br>\n",
    "- Internet and sockets were created in the 1970's, HTTP was invented in 1990 and is an application protocol that runs atop sockets."
   ]
  },
  {
   "cell_type": "markdown",
   "id": "f74f7888-5e75-498a-8cc1-4772173a9d42",
   "metadata": {},
   "source": [
    "**URL** : Uniform Resource Locator<br>\n",
    "Introduced in 1990s\n",
    "![title](Screenshots/3.png)"
   ]
  },
  {
   "cell_type": "markdown",
   "id": "a4c06d62-dcba-4600-9869-c70a627592d6",
   "metadata": {},
   "source": [
    "**Protocols**\n",
    "- http\n",
    "- https\n",
    "- ftp:\n",
    "- mail::"
   ]
  },
  {
   "cell_type": "markdown",
   "id": "14801f41-494d-4fb6-93cc-612c53c024b0",
   "metadata": {},
   "source": [
    "**Internet Standards**\n",
    "- The standards for all of the Internet protocols (inner working) are developed by an organization.\n",
    "- Internet Engineering Task Force (IETF)\n",
    "- www.ietf.org\n",
    "- Standards are called **RFCs** - **Request for Comments**"
   ]
  },
  {
   "cell_type": "markdown",
   "id": "ed9f6ed3-245a-42ce-9b12-8fda7fd3e9d8",
   "metadata": {},
   "source": [
    "**Making an HTTP Reqquest**\n",
    "- Connect to the server like data.pr4e.org\n",
    "- a \"handshake\"\n",
    "- Request a document\n",
    "<br>\n",
    "$\\;\\;\\;\\;$ * Get http://data.pr4e.org/page1.html HTTP/1.0<br>\n",
    "$\\;\\;\\;\\;$ * Get http://mlive.com/ann-arbor/ HTTP/1.0<br>\n",
    "$\\;\\;\\;\\;$ * Get http://facebook.com HTTP/1.0<br>\n"
   ]
  },
  {
   "cell_type": "markdown",
   "id": "a4416069-fbfd-4d16-ab1d-d138614afdc9",
   "metadata": {},
   "source": [
    "**TELNET**<br>\n",
    "![title](Screenshots/4.png)\n",
    "<br><br>\n",
    "**Explanation**:\n",
    "<br>\n",
    "**1st block**<br>\n",
    "$\\;\\;$1st line: user command<br>\n",
    "$\\;\\;$2-4 line: print<br>\n",
    "**2nd block**<br>\n",
    "$\\;\\;$headers from server<br>\n",
    "**3rd block**<br>\n",
    "$\\;\\;$ document sent from server to client\n"
   ]
  },
  {
   "cell_type": "markdown",
   "id": "23aaa74b-8673-4ede-9841-1ab027305087",
   "metadata": {},
   "source": [
    "# WEB CLIENT"
   ]
  },
  {
   "cell_type": "code",
   "execution_count": 7,
   "id": "fb2ea050-7791-49d9-b462-6d80c5ea6f76",
   "metadata": {},
   "outputs": [
    {
     "name": "stdout",
     "output_type": "stream",
     "text": [
      "HTTP/1.1 200 OK\n",
      "Date: Mon, 25 Oct 2021 12:17:44 GMT\n",
      "Server: Apache/2.4.18 (Ubuntu)\n",
      "Last-Modified: Mon, 15 May 2017 11:11:47 GMT\n",
      "ETag: \"80-54f8e1f004857\"\n",
      "Accept-Ranges: bytes\n",
      "Content-Length: 128\n",
      "Cache-Control: max-age=0, no-cache, no-store, must-revalidate\n",
      "Pragma: no-cache\n",
      "Expires: Wed, 11 Jan 1984 05:00:00 GMT\n",
      "Connection: close\n",
      "Content-Type: text/html\n",
      "\n",
      "<h1>The First Page</h1>\n",
      "<p>\n",
      "If you like, you can switch to the \n",
      "<a href=\"http://data.pr4e.org/page2.htm\">\n",
      "Second Page</a>.\n",
      "</p>\n"
     ]
    }
   ],
   "source": [
    "# Web client\n",
    "\n",
    "import socket\n",
    "mysock = socket.socket(socket.AF_INET, socket.SOCK_STREAM)\n",
    "mysock.connect((\"data.pr4e.org\", 80))\n",
    "cmd = \"GET http://data.pr4e.org/page1.htm HTTP/1.0\\r\\n\\r\\n\".encode()\n",
    "# in last line we used 'encode' method. we need to send the data across the internet as UTF-8, but the string in python is UNICODE, so we convert \n",
    "# UNICODE to UTF-8 using 'encode' method.\n",
    "\n",
    "mysock.send(cmd) # The FIRST action is from browser, THEN the server is response\n",
    "while True:\n",
    "    data = mysock.recv(512)\n",
    "    if len(data) < 1:\n",
    "        break\n",
    "    print(data.decode(), end='')\n",
    "    # 'data' is UTF-8, we need to convert it to UNICODE because Python inside it doesn't use UTF-8, we did this convertion by using 'decode' method\n",
    "mysock.close()"
   ]
  },
  {
   "cell_type": "markdown",
   "id": "6245d4d5-79a6-46dc-8b96-03b22a7d5a80",
   "metadata": {},
   "source": [
    "### Even simpler Web Client"
   ]
  },
  {
   "cell_type": "code",
   "execution_count": 5,
   "id": "c39d52ab-965a-446c-8f62-fac13a223eee",
   "metadata": {},
   "outputs": [
    {
     "name": "stdout",
     "output_type": "stream",
     "text": [
      "<h1>The First Page</h1>\n",
      "<p>\n",
      "If you like, you can switch to the\n",
      "<a href=\"http://data.pr4e.org/page2.htm\">\n",
      "Second Page</a>.\n",
      "</p>\n"
     ]
    }
   ],
   "source": [
    "import urllib.request\n",
    "fhand = urllib.request.urlopen(\"http://data.pr4e.org/page1.htm\")\n",
    "for line in fhand:\n",
    "    print(line.decode().strip())"
   ]
  },
  {
   "cell_type": "markdown",
   "id": "27c739d2-d94e-487d-b823-5f522c1d19d5",
   "metadata": {
    "tags": []
   },
   "source": [
    "# WEB-SERVER"
   ]
  },
  {
   "cell_type": "code",
   "execution_count": 6,
   "id": "58f5dc20-f998-45ad-84cb-fff0f82b3a3a",
   "metadata": {},
   "outputs": [
    {
     "name": "stdout",
     "output_type": "stream",
     "text": [
      "Access http://localhost:9887\n",
      "\n",
      "Shutting down...\n",
      "\n"
     ]
    }
   ],
   "source": [
    "# WEB-SERVER\n",
    "from socket import *\n",
    "port = 9887\n",
    "def create_server():\n",
    "    serversocket = socket(AF_INET, SOCK_STREAM)\n",
    "    try:\n",
    "        serversocket.bind(('localhost', port))\n",
    "        serversocket.listen(5)\n",
    "        while (1):\n",
    "            (clientsocket, address) = serversocket.accept() # accept the request, so the rest of code don't work until the server accepts the request.\n",
    "             \n",
    "            rd = clientsocket.recv(5000).decode()\n",
    "            pieces = rd.split(\"\\n\")\n",
    "            if (len(pieces) > 0) :\n",
    "                print(pieces[0])\n",
    "            data = \"HTTP/1.1 200 OK\\r\\n\"\n",
    "            data += \"Content-Type: text/html; charset=utf-8\\r\\n\"\n",
    "            data += \"\\r\\n\"\n",
    "            data += \"\"\"<html>\n",
    "                           <body>\n",
    "                               Hello World!\n",
    "                           </body>\n",
    "                       </html>\\r\\n\\r\\n\"\"\"\n",
    "            clientsocket.sendall(data.encode())\n",
    "            clientsocket.shutdown(SHUT_WR)\n",
    "    except KeyboardInterrupt:\n",
    "        print(\"\\nShutting down...\\n\")\n",
    "    except Exception as exc:\n",
    "        print(\"Error:\\n\")\n",
    "        print(exc)\n",
    "    serversocket.close()\n",
    "print(f\"Access http://localhost:{port}\")\n",
    "create_server()"
   ]
  },
  {
   "cell_type": "code",
   "execution_count": 3,
   "id": "a0d8dbd4-e8d6-410b-af89-84bbbf5215b3",
   "metadata": {},
   "outputs": [],
   "source": [
    "# Everytime before running 'python manage.py runserver' you have to run 'python manage.py check'. this command will check for errors"
   ]
  },
  {
   "cell_type": "code",
   "execution_count": 2,
   "id": "af49083b-d9bd-4146-a4ec-552063f23f42",
   "metadata": {},
   "outputs": [],
   "source": [
    "# python3 -m venv Djano-virtual-env\n",
    "# source Djano-virtual-env/bin/activate\n",
    "# pip install django\n",
    "# git clone https://github.com/csev/dj4e-samples\n",
    "# cd dj4e-samples/\n",
    "# pip install -r  requirements.txt \n",
    "# python manage.py check\n",
    "# python manage.py makemigrations\n",
    "# python manage.py migrate\n",
    "# cd ..\n",
    "# mkdir django-projects\n",
    "# cd django-projects/\n",
    "# django-admin startproject mysite\n",
    "\n",
    "# Edit the file mysite/settings.py and checge the ALLOWED_HOST variable to [ '*' ]\n",
    "\n",
    "# override mysite/wsgi.py with following\n",
    "#     import os\n",
    "#     import sys\n",
    "#     path = os.path.expanduser(\"/media/sdb2/Learning/Djngo-for-everybody/django-projects/mysite\")\n",
    "#     if path not in sys.path:\n",
    "#         sys.path.insert(0, path)\n",
    "#     os.environ['DJANGO_SETTINGS_MODULE'] = 'mysite.settings'\n",
    "#     from django.core.wsgi import get_wsgi_application\n",
    "#     from django.contrib.staticfiles.handlers import StaticFilesHandler\n",
    "#     application = StaticFilesHandler(get_wsgi_application())\n",
    "\n",
    "# python manage.py makemigrations\n",
    "# python manage.py migrate\n",
    "# python manage.py runserver\n",
    "\n",
    "# python manage.py startapp polls\n",
    "# override polls/views.py with following:\n",
    "    # from django.http import HttpResponse\n",
    "    # def index(request):\n",
    "    #     return HttpResponse(\"Hello, world. You're at the polls index.\")\n",
    "\n",
    "# override polls/urls.py with following:\n",
    "#     from django.urls import path\n",
    "#     from . import views\n",
    "#     urlpatterns = [\n",
    "#         path('', views.index, name='index'),\n",
    "#     ]\n",
    "\n",
    "\n",
    "# override mysite/urls.py with following:\n",
    "    # from django.contrib import admin\n",
    "    # from django.urls import include, path\n",
    "    # urlpatterns = [\n",
    "    #     path('polls/', include('polls.urls')),\n",
    "    #     path('admin/', admin.site.urls),\n",
    "    # ]\n",
    "    \n"
   ]
  },
  {
   "cell_type": "code",
   "execution_count": 7,
   "id": "8a51efa2-a730-489c-bb3f-a1c939cd923b",
   "metadata": {},
   "outputs": [
    {
     "name": "stdout",
     "output_type": "stream",
     "text": [
      "\n",
      "<p>You can add a style like\n",
      "    <strong>bold</strong> \n",
      "    to some text by enclosing it in the\n",
      "    <em>apprpriate</em>\n",
      "    tag.\n",
      "</p>\n",
      "\n"
     ]
    }
   ],
   "source": [
    "print(\"\"\"\n",
    "<p>You can add a style like\n",
    "    <strong>bold</strong> \n",
    "    to some text by enclosing it in the\n",
    "    <em>apprpriate</em>\n",
    "    tag.\n",
    "</p>\n",
    "\"\"\")"
   ]
  },
  {
   "cell_type": "markdown",
   "id": "884e69d9-725b-4153-9db9-ef1e0ccbfcca",
   "metadata": {},
   "source": [
    "<p>You can add a style like\n",
    "    <strong>bold</strong> \n",
    "    to some text by enclosing it in the\n",
    "    <em>apprpriate</em>\n",
    "    tag.\n",
    "</p>"
   ]
  },
  {
   "cell_type": "markdown",
   "id": "2b62eb49-df1d-4bda-9be2-9e08c4450dfd",
   "metadata": {},
   "source": [
    "# Web\n",
    "- Invented in early 1990's.\n",
    "- Popular in 1994\n",
    "- Robert Cailliau is a cofounder of the World-Wide-Web"
   ]
  },
  {
   "cell_type": "markdown",
   "id": "57717455-63c4-4a1f-aca1-9c4e59ec7dfb",
   "metadata": {},
   "source": [
    "# **HTML rules:**\n",
    "- Tags must be lower case.\n",
    "- Attributes must be enclosed in quotes.\n",
    "- Tags must be closed."
   ]
  },
  {
   "cell_type": "markdown",
   "id": "3f3b0384-4c80-4b78-8901-8a609441e882",
   "metadata": {},
   "source": [
    "![title](Screenshots/6.png)"
   ]
  },
  {
   "cell_type": "markdown",
   "id": "bc576f78-a641-464e-a216-7826741cac0c",
   "metadata": {},
   "source": [
    "**Special File Names (in HTML)**\n",
    "- When a URL points to a directory in your web server, it looks for a file with a special name:<br>\n",
    "$\\;\\;\\;\\;$ $\\color{red}{\\text{index.html}}$, $\\color{red}{\\text{index.htm}}$, $\\color{red}{\\text{index.php}}$, etc...\n",
    "- While there is a convertion, the \"default file\" is configurable - so nothing is \"sure\".\n",
    "- Usually $\\color{red}{\\text{index.html}}$ or $\\color{red}{\\text{index.htm}}$ is a safe bet.\n",
    "- This only works when viewing throug a web server - when viewing from disk, you must view the file."
   ]
  },
  {
   "cell_type": "markdown",
   "id": "c8c0eea8-8bc1-4190-ada8-0aa0ec22db43",
   "metadata": {},
   "source": [
    "# **Notes for HTML:**\n",
    "- The white space and new lines inside the HTML is genarally ignored."
   ]
  },
  {
   "cell_type": "markdown",
   "id": "85917163-ac90-4476-aaac-560ba99df61e",
   "metadata": {},
   "source": [
    "**HTML special charachters**<br><br>\n",
    "![title](Screenshots/7.png)"
   ]
  },
  {
   "cell_type": "markdown",
   "id": "f9cac774-d952-4ad4-969d-76485dfe7ca3",
   "metadata": {},
   "source": [
    "# **HTML comments**<br>\n",
    "\\<!-- Ignore this line :) -->"
   ]
  },
  {
   "cell_type": "markdown",
   "id": "e68a5ee6-fd25-42c6-83b9-58175702f492",
   "metadata": {},
   "source": [
    "\\<p style=\"border-style:none; position:fixed; bottom: 10px; right: 10px;\">Go to the \\<a href=\"navdetail.html\">very last page</a>.</p>\n",
    "\\<!-- here **a** is sort for \"anchor\" and \"href\" is short of \"hypertext reference\") -->\n",
    "<p style=\"border-style:none; position:fixed; bottom: 10px; right: 10px;\">Go to the <a href=\"navdetail.html\">very last page</a>.</p>"
   ]
  },
  {
   "cell_type": "markdown",
   "id": "8a8a5cb6-d0fb-4166-8eab-aebc4ff69f75",
   "metadata": {},
   "source": [
    "![title](Screenshots/8.png)"
   ]
  },
  {
   "cell_type": "markdown",
   "id": "595fa9e6-4eba-4adf-9c4d-9b09aaf1d22a",
   "metadata": {},
   "source": [
    "**Make an image a clickable:**<br>\n",
    "\\<a href=\"www.google.com\">\n",
    "\\<img src=\"my_image.png\"></a>"
   ]
  },
  {
   "cell_type": "code",
   "execution_count": 9,
   "id": "fd898275-3917-4b47-a5bf-8b8822e4cf7d",
   "metadata": {},
   "outputs": [],
   "source": [
    "x = \"\"\"\n",
    "<ul>\n",
    "  <li>\n",
    "    <p>This pages shows us how lists work\n",
    "    </p>\n",
    "  </li>\n",
    "  <li>\n",
    "    <p>We need to encode\n",
    "      <a href=\"special.htm\">certain\n",
    "      characters</a> to show them in HTML\n",
    "    </p>\n",
    "  </li>\n",
    "  <li>\n",
    "    <p>We should learn more about \n",
    "      <a href=\"links.htm\">Links</a>\n",
    "    </p>\n",
    "  </li>\n",
    "  <li>\n",
    "    <p>We should learn about \n",
    "      <a href=\"images.htm\">Images</a>\n",
    "    </p>\n",
    "  </li>\n",
    "  <li>\n",
    "    <p>We should learn about \n",
    "      <a href=\"tables.htm\">Tables</a>\n",
    "    </p>\n",
    "  </li>\n",
    "  <li>\n",
    "    <p>We can see that \n",
    "      <a href=\"wrong.htm\">Bad HTML</a>\n",
    "      works just fine\n",
    "    </p>\n",
    "  </li>\n",
    "  <li>\n",
    "    <p>But HTML can be \n",
    "      <a href=\"oops.htm\">Broken</a>\n",
    "      so badly it does not render at all.\n",
    "    </p>\n",
    "  </li>\n",
    "  <li>\n",
    "    <p>We could back to the\n",
    "      <a href=\"index.htm\">index Page</a>\n",
    "    </p>\n",
    "  </li>\n",
    "</ul>\n",
    "\"\"\""
   ]
  },
  {
   "cell_type": "markdown",
   "id": "87afb992-f192-406d-9b56-02aa081883ec",
   "metadata": {},
   "source": [
    "<ul>\n",
    "  <li>\n",
    "    <p>This pages shows us how lists work\n",
    "    </p>\n",
    "  </li>\n",
    "  <li>\n",
    "    <p>We need to encode\n",
    "      <a href=\"special.htm\">certain\n",
    "      characters</a> to show them in HTML\n",
    "    </p>\n",
    "  </li>\n",
    "  <li>\n",
    "    <p>We should learn more about \n",
    "      <a href=\"links.htm\">Links</a>\n",
    "    </p>\n",
    "  </li>\n",
    "  <li>\n",
    "    <p>We should learn about \n",
    "      <a href=\"images.htm\">Images</a>\n",
    "    </p>\n",
    "  </li>\n",
    "  <li>\n",
    "    <p>We should learn about \n",
    "      <a href=\"tables.htm\">Tables</a>\n",
    "    </p>\n",
    "  </li>\n",
    "  <li>\n",
    "    <p>We can see that \n",
    "      <a href=\"wrong.htm\">Bad HTML</a>\n",
    "      works just fine\n",
    "    </p>\n",
    "  </li>\n",
    "  <li>\n",
    "    <p>But HTML can be \n",
    "      <a href=\"oops.htm\">Broken</a>\n",
    "      so badly it does not render at all.\n",
    "    </p>\n",
    "  </li>\n",
    "  <li>\n",
    "    <p>We could back to the\n",
    "      <a href=\"index.htm\">index Page</a>\n",
    "    </p>\n",
    "  </li>\n",
    "</ul>"
   ]
  },
  {
   "cell_type": "markdown",
   "id": "34f935c6-2283-4568-9c3b-c9d0deae989e",
   "metadata": {},
   "source": [
    "# **Tables**"
   ]
  },
  {
   "cell_type": "code",
   "execution_count": 8,
   "id": "64f5ef51-fc84-4f6f-b7ff-e7a1721537c0",
   "metadata": {},
   "outputs": [],
   "source": [
    "x = \"\"\"\n",
    "<table>\n",
    "    <tr>\n",
    "        <th>Make</th>\n",
    "        <th>Model</th>\n",
    "        <ht>Mileage</th>\n",
    "    </tr>\n",
    "    <tr>\n",
    "        <td>Ford</td>\n",
    "        <td>Edge</td>\n",
    "        <td>10348</td>\n",
    "    </tr>\n",
    "    <tr>\n",
    "        <td>Pontiac</td>\n",
    "        <td>Vibe</td>\n",
    "        <td>73630</td>\n",
    "    </tr>\n",
    "</table>\n",
    "\"\"\""
   ]
  },
  {
   "cell_type": "markdown",
   "id": "1f85c654-8be7-4706-bd35-7eb393a06a81",
   "metadata": {},
   "source": [
    "<table>\n",
    "    <tbody>\n",
    "        <tr>\n",
    "            <th>Make</th>\n",
    "            <th>Model</th>\n",
    "            <ht>Mileage</th>\n",
    "        </tr>\n",
    "        <tr>\n",
    "            <td>Ford</td>\n",
    "            <td>Edge</td>\n",
    "            <td>10348</td>\n",
    "        </tr>\n",
    "        <tr>\n",
    "            <td>Pontiac</td>\n",
    "            <td>Vibe</td>\n",
    "            <td>73630</td>\n",
    "        </tr>\n",
    "    </tbody>\n",
    "</table>"
   ]
  },
  {
   "cell_type": "markdown",
   "id": "b80e59cd-271d-4c99-95db-8ea5b4913c96",
   "metadata": {},
   "source": [
    "## **pre tag (for writing code)**"
   ]
  },
  {
   "cell_type": "code",
   "execution_count": 10,
   "id": "6f28b88e-45ed-4f0f-8581-b79cdfaebaf7",
   "metadata": {},
   "outputs": [],
   "source": [
    "x = \"\"\"\n",
    "<body>\n",
    "<p>\n",
    "    This is a normal text, when \n",
    "the          white space and\n",
    "      new line doesn't metter.\n",
    "<pre>\n",
    "If you        use the pre tag\n",
    "   The browser respects spaces\n",
    "and\n",
    "line\n",
    "ends\n",
    "        and shows the text in a\n",
    "        monospace font.\n",
    "</pre>\n",
    "</p>\n",
    "</body>\n",
    "\"\"\""
   ]
  },
  {
   "cell_type": "markdown",
   "id": "6928f697-9563-4682-9d3e-8cbbf45336d3",
   "metadata": {},
   "source": [
    "<body>\n",
    "<p>\n",
    "    This is a normal text, when \n",
    "the          white space and\n",
    "      new line doesn't metter.\n",
    "<pre>\n",
    "If you        use the pre tag\n",
    "   The browser respects spaces\n",
    "and\n",
    "line\n",
    "ends\n",
    "        and shows the text in a\n",
    "        monospace font.\n",
    "</pre>\n",
    "</p>\n",
    "</body>\n",
    " "
   ]
  },
  {
   "cell_type": "markdown",
   "id": "95009bb6-718a-4c8f-ab3a-0c72a1c8aed3",
   "metadata": {},
   "source": [
    "## open a link in new tab\n",
    "### \\<a href=\"www.google.com\" target=\"_blank\">\n",
    "<li>\n",
    "    <p>You can open a link \n",
    "        <a href=\"www.google.com\" target=\"_blank\">\n",
    "        in a new blank window\n",
    "        </a>\n",
    "    </p>\n",
    "</li>"
   ]
  },
  {
   "cell_type": "markdown",
   "id": "7d016bea-1f97-4dfb-b324-4e6b7e14afcb",
   "metadata": {},
   "source": [
    "# Image can be right in the middle of text\n",
    "<p>\n",
    "    Image can be <img src=\"https://avatars.githubusercontent.com/u/31971908?v=4\" width=\"40\" height=\"40\"> right in the middle of text like a charachter.\n",
    "</p>"
   ]
  },
  {
   "cell_type": "markdown",
   "id": "54dac291-00f7-4c0b-bfed-cb75b08608e6",
   "metadata": {},
   "source": [
    "**DOM (Document Object Model)**<br>\n",
    "It's what we see in insepect element, the browser recive the document from the server, and then parse it, in parsin the broser correct mistakes (if it can), so DOM is not always perfect copy of original document.\n"
   ]
  },
  {
   "cell_type": "code",
   "execution_count": 14,
   "id": "3812b0ad-dd0e-4e67-91c0-ccae7c02d9a3",
   "metadata": {},
   "outputs": [],
   "source": [
    "x=\"\"\"\n",
    "<H1>Tacky HTML</H1>            #upper case tag name\n",
    "Hi there.\n",
    "<p><img src=tiny.png>          #tiny.png not in double quotes\n",
    "Browsers tolerate a lot of \n",
    "completely broken HTML.          # p tag is not closed\n",
    "<UL>                             # upper case tag name\n",
    "<LI>List one                     # upper case tag name | tag not closed\n",
    "<LI>List 2                       # upper case tag name | tag not closed\n",
    "</UL>                            # upper case tag name\n",
    "<a href=lists.htm>Going Back</a> # ists.htm not in double quotes\n",
    "\"\"\"\n",
    "# All these mistakes will fix by browser"
   ]
  },
  {
   "cell_type": "markdown",
   "id": "52d02cc4-b50f-4e98-af3e-aee9912b0316",
   "metadata": {},
   "source": [
    "<H1>Tacky HTML</H1>\n",
    "Hi there.\n",
    "<p><img src=tiny.png>\n",
    "Browsers tolerate a lot of\n",
    "completely broken HTML.\n",
    "<UL>\n",
    "<LI>List one\n",
    "<LI>List 2\n",
    "</UL>\n",
    "<a href=lists.htm>Going Back</a>"
   ]
  },
  {
   "cell_type": "code",
   "execution_count": 15,
   "id": "7a65d298-b3cd-4773-8bdd-5d6fd5f9d3e0",
   "metadata": {},
   "outputs": [],
   "source": [
    "### Not all borken HTML document can be fixed by browser, here is an example\n",
    "x = \"\"\"\n",
    "<html>\n",
    "<head>\n",
    "  <title>Why blank?\n",
    "</head>\n",
    "<body>\n",
    "<h1>How images look </h2>\n",
    "<p>\n",
    "<img src=\"medium.png\">\n",
    "</p>\n",
    "</body>\n",
    "\"\"\""
   ]
  },
  {
   "cell_type": "markdown",
   "id": "926c97c5-edca-446a-bfb7-126063ef3c71",
   "metadata": {},
   "source": [
    "<html>\n",
    "<head>\n",
    "  <title>Why blank?\n",
    "</head>\n",
    "<body>\n",
    "    <h1>How images look </h2>\n",
    "    <p>\n",
    "        <img src=\"medium.png\">\n",
    "    </p>\n",
    "</body>"
   ]
  },
  {
   "cell_type": "markdown",
   "id": "21038c02-ecf3-4e50-9012-55216b88df84",
   "metadata": {
    "tags": []
   },
   "source": [
    "# **CSS: (Cascading Style Sheets)**\n",
    "- CSS is very different from HTML\n",
    "- CSS is a set of \"rules\" which in include a \"selector\" and one or more \"properties\" and \"values\" as well as some punctuation ........ <br>\n",
    "body {<br>\n",
    "$\\;\\;\\;\\;$font-family: arial, sans-serief;<br>\n",
    "}\n",
    "<br>\n",
    "\n",
    "![title](Screenshots/9.png)"
   ]
  },
  {
   "cell_type": "markdown",
   "id": "3451173d-d69c-43c1-8554-12ca50102fb9",
   "metadata": {},
   "source": [
    "![title](Screenshots/10.png)"
   ]
  },
  {
   "cell_type": "markdown",
   "id": "76e76d89-5ac4-426c-89d9-ebfc7b215a65",
   "metadata": {},
   "source": [
    "**Applying CSS to our HTML**\n",
    "- $\\color{red}{\\text{inline}}$ - right on an HTML tag - using the **style = attribute**\n",
    "- $\\color{red}{\\text{embedded style sheet}}$ in the <head> of the document.\n",
    "- As $\\color{red}{\\text{external style sheet}}$ in a separate file."
   ]
  },
  {
   "cell_type": "code",
   "execution_count": 24,
   "id": "76746d74-fd1f-43ca-ad21-30e92c3f6688",
   "metadata": {
    "jp-MarkdownHeadingCollapsed": true,
    "tags": []
   },
   "outputs": [
    {
     "data": {
      "text/plain": [
       "''"
      ]
     },
     "execution_count": 24,
     "metadata": {},
     "output_type": "execute_result"
    }
   ],
   "source": [
    "## CSS in the HTML file.\n",
    "x = \"\"\"\n",
    "<head>\n",
    "    <title>TITLE</title>\n",
    "    <style>\n",
    "        body {\n",
    "            font-family: arial, sans-serif;\n",
    "        }\n",
    "        h1 {\n",
    "            color: blue;\n",
    "        }\n",
    "        p {\n",
    "            border-style: solid;\n",
    "            border-color: red;\n",
    "            border-width: 5px;\n",
    "        }\n",
    "        a {\n",
    "            color: green;\n",
    "            text-decoration: none;\n",
    "            background-color: lightgray;\n",
    "        }\n",
    "    </style>\n",
    "</head>\n",
    "<body>\n",
    "    ...\n",
    "</body>\n",
    "\"\"\"\n",
    "\n",
    "\n",
    "\n",
    "# CSS in the separate file\n",
    "'>>> cat rules.css'\n",
    "'''\n",
    "body {\n",
    "        font-family: arial, sans-serif;\n",
    "    }\n",
    "    h1 {\n",
    "        color: blue;\n",
    "    }\n",
    "    p {\n",
    "        border-style: solid;\n",
    "        border-color: red;\n",
    "        border-width: 5px;\n",
    "    }\n",
    "    a {\n",
    "        color: green;\n",
    "        text-decoration: none;\n",
    "        background-color: lightgray;\n",
    "    }\n",
    "'''\n",
    "\n",
    "\"\"\"\n",
    "<html>\n",
    "<head>\n",
    "    <title>Title</title>\n",
    "    <link type=\"text/css\" rel=\"stylesheet\" href=\"rules.css\">\n",
    "</head>\n",
    "<body>\n",
    "...\n",
    "</body>\n",
    "\"\"\"\n",
    "''"
   ]
  },
  {
   "cell_type": "markdown",
   "id": "b5a5b5ad-267a-4039-93d4-01fb08de20a9",
   "metadata": {},
   "source": [
    "all the tags (such as: h1, body, p) have a default style. but $\\color{red}{\\text{span}}$ and $\\color{red}{\\text{div}}$ has ha NO default style.\n"
   ]
  },
  {
   "cell_type": "markdown",
   "id": "d686f7ad-1116-471a-a28b-00c46a06de8e",
   "metadata": {
    "tags": []
   },
   "source": [
    "# span and div tags"
   ]
  },
  {
   "cell_type": "code",
   "execution_count": 28,
   "id": "2944a970-38d7-437f-b2fb-7b3c8e263d4b",
   "metadata": {},
   "outputs": [
    {
     "data": {
      "text/plain": [
       "''"
      ]
     },
     "execution_count": 28,
     "metadata": {},
     "output_type": "execute_result"
    }
   ],
   "source": [
    "'''\n",
    "<p style=\"border: 1px green solid;\">\n",
    "With CSS we wanted some tags that had no pred-existing style. So the <span style=\"color: green;\">span</span> tag was invented as the new \"inline\" tag with no styling.\n",
    "</p>\n",
    "<div style=\"border: 1px blue solid;\">\n",
    "And the <strong>div</strong> tag is a new unstyled block tag with no padding, margin, background-color, or anyting else. So you could mark blocks with the div tag and no inherit any default style.\n",
    "<div style=\"border: 1px orange solid;\">\n",
    "And the <strong>div</strong> tags can be nested as well. Adding the 1 pixel borders does keep up a pixel of space.\n",
    "</dev>\n",
    "You can add some text in the outer div.\n",
    "</div>\n",
    "'''\n",
    "''"
   ]
  },
  {
   "cell_type": "markdown",
   "id": "33c7893b-c332-4225-b633-97f8e8ed12d7",
   "metadata": {
    "tags": []
   },
   "source": [
    "<p style=\"border: 1px green solid;\">\n",
    "With CSS we wanted some tags that had no pred-existing style. So the <span style=\"color: green;\">span</span> tag was invented as the new \"inline\" tag with no styling.\n",
    "</p>\n",
    "<div style=\"border: 1px blue solid;\">\n",
    "And the <strong>div</strong> tag is a new unstyled block tag with no padding, margin, background-color, or anyting else. So you could mark blocks with the div tag and no inherit any default style.\n",
    "<div style=\"border: 1px orange solid;\">\n",
    "And the <strong>div</strong> tags can be nested as well. Adding the 1 pixel borders does keep up a pixel of space.\n",
    "</dev>\n",
    "You can add some text in the outer div.\n",
    "</div>"
   ]
  },
  {
   "cell_type": "markdown",
   "id": "067375b2-f930-4adc-8bae-1ffcba1985c3",
   "metadata": {},
   "source": [
    "## Complete week-4 from 2-wa4e-css-cascading-style-sheets-part-2.mp4:15:04 til the end of course."
   ]
  },
  {
   "cell_type": "markdown",
   "id": "9110b7f9-cb44-4be5-8bb1-32849371ae02",
   "metadata": {},
   "source": [
    "# MVC (Model View Controller)\n",
    "### In MVC, the $\\color{red}{\\text{model}}$ represents the information (the data) of the application and the business rules used to manipulate the data; the $\\color{red}{\\text{view}}$ corresponds to element of the user interface such as text, checkbox items, and so forth; and the $\\color{red}{\\text{controller}}$ manages details invoolving the communication to the model of user actions.\n",
    "\n",
    "## We name the three basic funtions of an application as follow:\n",
    "- $\\color{red}{\\text{Controller}}$ - The code that does the thinking and decision making.\n",
    "- $\\color{red}{\\text{View}}$ - The HTML, CSS, et. with makes up the look and feel of the application.\n",
    "- $\\color{red}{\\text{Model}}$ - The presistent data taht we keep in data store."
   ]
  },
  {
   "cell_type": "markdown",
   "id": "1a0108f6-9967-40a3-a06f-5271e8da19a3",
   "metadata": {},
   "source": [
    "![title](Screenshots/12.png)\n",
    "sqlite> .quit<br>\n",
    "sqlite> INSERT INTO Users(name, email) VALUES ('amir', 'hamza')<br>\n",
    "sqlite> DELETE FROM Users WHERE email=\"abc@gmail.com\"<br>\n",
    "sqlite> UPDATE Users SET name=\"oqba\" where emai=\"baby@email.com\"\n",
    "\n",
    "![title](Screenshots/13.png)\n",
    "<br>\n",
    "![title](Screenshots/14.png)"
   ]
  },
  {
   "cell_type": "markdown",
   "id": "80fce357-2a41-4647-8097-044a2d485ce4",
   "metadata": {},
   "source": [
    "# **ORM (Object Relational Mapping)**\n",
    "- while we use Django ORM nothing can have direct access to DB, **views**, **shell** and **admin** the ONLY who can talk to DB using ORM.\n",
    "- It's a layer between you and DB.\n",
    "- Allows usto map tables to objects and columns\n",
    "- We use those objects to store and retrieve data from the database\n",
    "- Improved portability across database dialects (SQLite, MySQL, Postgres, Oracle)\n",
    "<br>\n",
    "\n",
    "\n",
    "## **Benefits of ORM:**\n",
    "- We can write only Python code (i.e. no explicit SQL)\n",
    "- We gain database portability.\n",
    "- Migrations both create and evolve our database schema.\n",
    "- A sweet administrator interface.\n",
    "- Automatic form generation and validation (later)\n",
    "\n",
    "\n",
    "80% time we use ORM for interection with DB, but more advanced things can't be done with ORM, or you can but lot of difficulties compared to direct interection with DB. \n",
    "\n",
    "When we use ORM we don't care about what type of DB is selected. for example: you choosen sqlite3 when you was writing a code, in prodection you need to move to MySQL, so you don't have to cahnge single line of code, This is awsome in ORM, since you have to change your SQL code (if it get deepar) if you need to move to another type of DB.\n",
    "\n",
    "![title](Screenshots/11.png)\n"
   ]
  },
  {
   "cell_type": "markdown",
   "id": "a283cbf3",
   "metadata": {},
   "source": [
    "# **Inserting a Record**\n",
    "$ python3 manage.py shell<br>\n",
    "\\>>> from usermodel.models import user<br>\n",
    "\\>>> u = User(name=\"amir\", email=\"abc@gmail.com\")<br>\n",
    "\\>>> u.save()<br>\n",
    "\\>>> print(u.id)<br>\n",
    "1<br>\n",
    "\\>>> print(u.email)<br>\n",
    "abc@gmail.com<br>\n",
    "\\>>>\n",
    "\n",
    "![title](Screenshots/15.png)"
   ]
  },
  {
   "cell_type": "markdown",
   "id": "03015873",
   "metadata": {},
   "source": [
    "# **CRUD in the ORM**\n",
    "u = User(name=\"amir\", email=\"abc@gmail.com\")<br>\n",
    "u.save()<br>\n",
    "<br>\n",
    "User.objects.values() # equals to: select * from User<br>\n",
    "User.objects.filter(email=\"abc@gmail.com\").values()<br>\n",
    "\n",
    "User.objects.filter(email=\"abc@gmail.com\").delete()<br>\n",
    "User.objects.values()<br>\n",
    "<br>\n",
    "User.objects.filter(email=\"gm@hotmail.com\").update(name=\"hamza\")<br>\n",
    "User.objects.values()<br>\n",
    "<br>\n",
    "User.objects.values().order_by(\"email\")<br>\n",
    "User.objects.values().order_by(\"-name\")\n"
   ]
  },
  {
   "cell_type": "markdown",
   "id": "686ce6c2",
   "metadata": {},
   "source": [
    "![title](Screenshots/16.png)"
   ]
  },
  {
   "cell_type": "markdown",
   "id": "eca2de41",
   "metadata": {},
   "source": [
    "# **Migrations**: From Model to Database\n",
    "\n",
    "- The $\\color{red}{\\text{makemigrations}}$ command reads all the $\\color{red}{\\text{models.py}}$ files in all the applications, and creates / evolves the migration files.\n",
    "- Guided by the applications listed in $\\color{red}{\\text{settings.py}}$\n",
    "- The $\\color{red}{\\text{migrate}}$ command reads all the $\\color{red}{\\text{migrations}}$ folders in the application folders and creates / evolves the tables in the database (i.e. db.sqlite3)"
   ]
  },
  {
   "cell_type": "markdown",
   "id": "4fc38203",
   "metadata": {},
   "source": [
    "![title](Screenshots/17.png)"
   ]
  },
  {
   "cell_type": "markdown",
   "id": "1f125745",
   "metadata": {},
   "source": [
    "![title](Screenshots/18.png)"
   ]
  },
  {
   "cell_type": "markdown",
   "id": "3fc55ebc",
   "metadata": {},
   "source": [
    "# If you Model / Database Get Messed Up\n",
    "\n",
    "cd /home/amir/MyProject<br>\n",
    "rm \\**/migrations/00** <br>\n",
    "rm db.sqlite3<br>\n",
    "python manage.py mikemigrations<br>\n",
    "python manage.py migrate<br>\n",
    "python manage.py createsuperuser # If needed"
   ]
  },
  {
   "cell_type": "markdown",
   "id": "f18fe321",
   "metadata": {},
   "source": [
    "# **Views**\n",
    "### **Views** are the core of our application.\n",
    "-Django looks at the incoming request URL and uses **urls.py** to select a view.\n",
    "- The view from **views.py**:<br>\n",
    "$\\;\\;\\;\\;$ - Handle any incoming data in the request and copy it to the database through the model.<br>\n",
    "$\\;\\;\\;\\;$ - Retrieve data to put on the page from the database though the model.<br>\n",
    "$\\;\\;\\;\\;$ - Produce the HTML that will become the response and return it to the browser."
   ]
  },
  {
   "cell_type": "markdown",
   "id": "bfbbb6f1",
   "metadata": {},
   "source": [
    "# **Reading the URL:**\n",
    "- When Django receives an HTTP request it parses it, uses some of the URL for routing purposes and passes parts of the URL to you code.\n",
    "![title](Screenshots/19.png)"
   ]
  },
  {
   "cell_type": "markdown",
   "id": "ed8dca08",
   "metadata": {},
   "source": [
    "# **URL Dispatcher**\n",
    "A clean, elegant URL scheme is an important detail in a high-quality Web application. Django lets you design URLs however you want, with no framework limitations.\n",
    "\n",
    "To design URLs for an app, you create a Python module informally called a URLconf (URL configuration). This module is pure Python code and is a mapping between URL path expressions to Python functions (your views).\n",
    "\n",
    "This mapping can be as short or as long as needed. It can reference other mappings. And, because it's pure Python code, it can be constructed dynamically."
   ]
  },
  {
   "cell_type": "markdown",
   "id": "f40009cc",
   "metadata": {},
   "source": [
    "# **Three patterns for viwes (in urls.py)**\n",
    "- Requests are routed to a pre-defined class from Django itself.\n",
    "- Requests are routed to a function in $\\color{red}{\\text{views.py}}$ that takes the http $\\color{red}{\\text{request}}$ as a parameter and return a response.\n",
    "- Request are routed to a calss in $\\color{red}{\\text{views.py}}$ that has $\\color{red}{\\text{get()}}$ and $\\color{red}{\\text{post()}}$ methods taht take the http $\\color{red}{\\text{request}}$ as a parameter and return a response."
   ]
  },
  {
   "cell_type": "code",
   "execution_count": null,
   "id": "7d8c8160-eedc-407b-b1e3-b7a9b731ce2b",
   "metadata": {},
   "outputs": [],
   "source": [
    "from django.urls import path\n",
    "from . import views\n",
    "from django.views.generic import TemplateView\n",
    "\n",
    "# https://docs.djangoproject.com/en/2.1/topics/http/urls/\n",
    "app_name=\"views\"\n",
    "urlpatterns = [\n",
    "    # pre-defined class from Django\n",
    "    # This is save you from writing a code. when this path is called the  'views/main.html' is rendered. so this request is not going to 'urls.py'\n",
    "    path('', TemplateView.as_view(template_name=\"views/main.html\")),\n",
    "    # function from views.py\n",
    "    path('funcy', views.funcy),\n",
    "    path('rest/<int:guess>', views.rest),\n",
    "    # our class from views.py\n",
    "    path('main', views.MainView.as_view()),\n",
    "    path('remain/<slug:guess>', views.RestMainView.as_view()),\n",
    "]"
   ]
  },
  {
   "cell_type": "markdown",
   "id": "2120ed5c-fdf9-4356-8de7-675ce61cd42b",
   "metadata": {},
   "source": [
    "# **Request and Response Objects**\n",
    "Django uses request and response objects to pass information throughout you Django application.<br><br>\n",
    "When a page is requested by a browser, Django creates an **HttpRequest** object that contains metadata about the request.<br><br>\n",
    "Then Django loads the appropriate view, passing the **HttpRequest** as the first argument to the view function. Each view is responsible for returning an **HttpResponse** object.<br><br>\n",
    "The Application Programming Interface (APIs) for **HttpReqest** and **HttpResponse** objects, are defined in the **django.http** module."
   ]
  },
  {
   "cell_type": "markdown",
   "id": "35710ae8-bcc9-4e80-9325-421dc9d9bc61",
   "metadata": {},
   "source": [
    "# **Class HttpRequest**\n",
    "### Atributes\n",
    "All attributes should be cosidered read-only, unless stated otherwise.\n",
    "\n",
    "### HttpRequest.scheme\n",
    "A string representing the scheme of the request (http or https usually).\n",
    "\n",
    "### HttpRequest.body\n",
    "The row HTTP request body as as bytestring. This is useful for processing data in different ways than conventional HTML forms: binary images, XML paylod etc. For processing conventional form data, use **HttpRequest.POST**"
   ]
  },
  {
   "cell_type": "markdown",
   "id": "8618a7f4-ea6a-4c55-b8f5-fbf4e46dcdc4",
   "metadata": {},
   "source": [
    "![title](Screenshots/21.png)\n",
    "![title](Screenshots/22.png)\n",
    "![title](Screenshots/23.png)\n",
    "![title](Screenshots/24.png)\n",
    "![title](Screenshots/25.png)\n",
    "![title](Screenshots/26.png)\n",
    "![title](Screenshots/27.png)\n",
    "![title](Screenshots/28.png)\n",
    "![title](Screenshots/29.png)"
   ]
  },
  {
   "cell_type": "code",
   "execution_count": null,
   "id": "e26485f7-e409-4da4-806c-1a222dae0b0a",
   "metadata": {},
   "outputs": [],
   "source": [
    "# Sending a Redirect from a View\n",
    "\n",
    "# https://samples.com/view/bounce\n",
    "path('bounce', views.bounce)\n",
    "from django.http import HttpResponse\n",
    "from django.http import HttpResponseRedirect\n",
    "\n",
    "def bounce(request):\n",
    "    return HttpResponseRedirect(\"https:www.dj4e.com/simple.htm\")"
   ]
  },
  {
   "cell_type": "markdown",
   "id": "57b1ff5e-b28a-4984-b4b8-b0b9ac6e1828",
   "metadata": {},
   "source": [
    "![title](Screenshots/30.png)"
   ]
  },
  {
   "cell_type": "code",
   "execution_count": null,
   "id": "acf93169-1cc4-44cb-8c99-42a291d05411",
   "metadata": {},
   "outputs": [],
   "source": [
    "# path('game/<slug:guess>', views.GameView.as_view())\n",
    "# <slug> is special version of string that are letters, numbers and dashed I believe. \n",
    "  \n",
    "from django.shortcuts import render\n",
    "from django.views import View\n",
    "\n",
    "class GameView(View):\n",
    "    def get(self, request, guess)\n",
    "    x = {\"guess\" : int(guess) }\n",
    "    return render(request, 'tmpl/cond.html', x )"
   ]
  },
  {
   "cell_type": "markdown",
   "id": "50378018-65be-4efc-a916-35780e564cbd",
   "metadata": {},
   "source": [
    "![title](Screenshots/31.png)"
   ]
  },
  {
   "cell_type": "code",
   "execution_count": 6,
   "id": "dd693760-c432-41f4-b86f-654d5be49e50",
   "metadata": {},
   "outputs": [
    {
     "data": {
      "text/plain": [
       "''"
      ]
     },
     "execution_count": 6,
     "metadata": {},
     "output_type": "execute_result"
    }
   ],
   "source": [
    "# Django template language (DTL)**\n",
    "# |safe is a filter, we used it to say: don't apply escaping on it, just show AS IT IS. It is dangrous (since it can be HTML) but I know that.\n",
    "'''\n",
    "Subtitution  {{ zap }}\n",
    "             {{ zap|safe }}\n",
    "\n",
    "Calling code {% url 'cat-detail' cat.id %} #url for the view 'cat-detail' with cat.id \n",
    "             {% auhor.get_absolute_url %} # calling a method\n",
    "\n",
    "Logic        {% if zap > 100 %}\n",
    "             {% endif %}\n",
    "             \n",
    "Blocks       {% block content %}\n",
    "             {% endblock %}\n",
    "'''\n",
    "''"
   ]
  },
  {
   "cell_type": "markdown",
   "id": "593cb9f4-b31f-4415-9c6b-1ce87a2ac0c7",
   "metadata": {},
   "source": [
    "![title](Screenshots/32.png)"
   ]
  },
  {
   "cell_type": "code",
   "execution_count": 8,
   "id": "a887f9c2-8110-4666-b76b-f9f4237c7240",
   "metadata": {},
   "outputs": [
    {
     "data": {
      "text/plain": [
       "''"
      ]
     },
     "execution_count": 8,
     "metadata": {},
     "output_type": "execute_result"
    }
   ],
   "source": [
    "'''\n",
    "{% if nuts %}\n",
    "    <p>Number of nuts : {{ nuts|length }}</p>       # 'nuts' is a list\n",
    "{% else %}\n",
    "    <p>No nuts</p>\n",
    "{% endif %}\n",
    "'''\n",
    "''"
   ]
  },
  {
   "cell_type": "code",
   "execution_count": 9,
   "id": "22bf38a6-3bb5-4b51-aa10-86f3e4754215",
   "metadata": {},
   "outputs": [],
   "source": [
    "# return render (request, 'page.html', {'key' : {'key' : 'value'} })\n",
    "# <p>You inner key is {{ key.key }}</p>"
   ]
  },
  {
   "cell_type": "markdown",
   "id": "4aa03197-914f-4781-b5f7-7257a962205f",
   "metadata": {},
   "source": [
    "Djngo-for-everybody/2-django-build-web-apps/Week-2/Week-2-COMPLETE_WEEK_IN_ONE_FILE.mkv 50:00"
   ]
  },
  {
   "cell_type": "markdown",
   "id": "2e62e9b5-e482-4f4f-add7-89b1db4fb9ad",
   "metadata": {},
   "source": []
  },
  {
   "cell_type": "markdown",
   "id": "68eaacb3-dafc-425f-94db-200bce05b23f",
   "metadata": {},
   "source": []
  },
  {
   "cell_type": "markdown",
   "id": "5b4c6cd3-eff9-453c-960e-9838f4c7ccf4",
   "metadata": {},
   "source": []
  },
  {
   "cell_type": "markdown",
   "id": "ada4fdb7-288f-4682-986f-08e07c763efb",
   "metadata": {},
   "source": []
  },
  {
   "cell_type": "markdown",
   "id": "3d877dfd-c0f4-4585-b094-50f65b9df507",
   "metadata": {},
   "source": []
  },
  {
   "cell_type": "markdown",
   "id": "b244cbab-890f-4752-8188-45d2e17a75c0",
   "metadata": {},
   "source": []
  },
  {
   "cell_type": "markdown",
   "id": "56faeef4-91b6-4892-8c90-62a7900d9093",
   "metadata": {},
   "source": []
  },
  {
   "cell_type": "markdown",
   "id": "4899097c-4c61-4d6c-865b-f10a6884c7dd",
   "metadata": {},
   "source": []
  },
  {
   "cell_type": "markdown",
   "id": "521b8258-7013-423a-913f-f4ef82b1ce9e",
   "metadata": {},
   "source": []
  },
  {
   "cell_type": "markdown",
   "id": "a11f892b-eacb-4218-8f55-2d33bd9bfa9d",
   "metadata": {},
   "source": []
  },
  {
   "cell_type": "markdown",
   "id": "fd2c1fef-a08f-4f6c-9cfa-0bdc942c3fcb",
   "metadata": {},
   "source": []
  },
  {
   "cell_type": "markdown",
   "id": "827dd487-2f84-4003-8acf-6ec80e20a4af",
   "metadata": {},
   "source": []
  }
 ],
 "metadata": {
  "kernelspec": {
   "display_name": "Python 3 (ipykernel)",
   "language": "python",
   "name": "python3"
  },
  "language_info": {
   "codemirror_mode": {
    "name": "ipython",
    "version": 3
   },
   "file_extension": ".py",
   "mimetype": "text/x-python",
   "name": "python",
   "nbconvert_exporter": "python",
   "pygments_lexer": "ipython3",
   "version": "3.8.10"
  }
 },
 "nbformat": 4,
 "nbformat_minor": 5
}
