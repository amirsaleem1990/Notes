{
 "cells": [
  {
   "cell_type": "markdown",
   "metadata": {},
   "source": [
    "[link](https://www.w3resource.com/r-programming-exercises/basic/index.php)"
   ]
  },
  {
   "cell_type": "markdown",
   "metadata": {},
   "source": [
    "1- Write a R program to take input from the user (name and age) and display the values. Also print the version of R installation"
   ]
  },
  {
   "cell_type": "code",
   "execution_count": 19,
   "metadata": {},
   "outputs": [
    {
     "name": "stdout",
     "output_type": "stream",
     "text": [
      "Enter your name: Amir\n",
      "Enter your age: 29\n",
      "\n",
      "Hi  Amir !, Your are  29 years old\n",
      "\n",
      "R version:\t  R version 3.4.4 (2018-03-15)"
     ]
    }
   ],
   "source": [
    "name = readline(prompt=\"Enter your name: \")\n",
    "age = readline(prompt=\"Enter your age: \")\n",
    "cat(\"\\nHi \" , name , \"!, Your are \", age, \"years old\")\n",
    "cat(\"\\n\\nR version:\\t \", version$version.string)"
   ]
  },
  {
   "cell_type": "markdown",
   "metadata": {},
   "source": [
    "2. Write a R program to get the details of the objects in memory."
   ]
  },
  {
   "cell_type": "code",
   "execution_count": 25,
   "metadata": {},
   "outputs": [
    {
     "data": {
      "text/plain": [
       "age :  chr \"29\"\n",
       "name :  chr \"Amir\""
      ]
     },
     "metadata": {},
     "output_type": "display_data"
    }
   ],
   "source": [
    "ls.str()"
   ]
  },
  {
   "cell_type": "markdown",
   "metadata": {},
   "source": [
    "3. Write a R program to create a sequence of numbers from 20 to 50 and find the mean of numbers from 20 to 60 and sum of numbers from 51 to 91"
   ]
  },
  {
   "cell_type": "code",
   "execution_count": 28,
   "metadata": {},
   "outputs": [
    {
     "name": "stdout",
     "output_type": "stream",
     "text": [
      "[1] 40\n",
      "[1] 2911\n"
     ]
    }
   ],
   "source": [
    "x = 20:50\n",
    "print(mean(20:60))\n",
    "print(sum(51:91))"
   ]
  },
  {
   "cell_type": "markdown",
   "metadata": {},
   "source": [
    "4. Write a R program to create a vector which contains 10 random integer values between -50 and +50"
   ]
  },
  {
   "cell_type": "code",
   "execution_count": 43,
   "metadata": {},
   "outputs": [
    {
     "data": {
      "text/html": [
       "<ol class=list-inline>\n",
       "\t<li>17</li>\n",
       "\t<li>-18</li>\n",
       "\t<li>14</li>\n",
       "\t<li>-44</li>\n",
       "\t<li>38</li>\n",
       "\t<li>33</li>\n",
       "\t<li>-6</li>\n",
       "\t<li>8</li>\n",
       "\t<li>11</li>\n",
       "\t<li>-24</li>\n",
       "</ol>\n"
      ],
      "text/latex": [
       "\\begin{enumerate*}\n",
       "\\item 17\n",
       "\\item -18\n",
       "\\item 14\n",
       "\\item -44\n",
       "\\item 38\n",
       "\\item 33\n",
       "\\item -6\n",
       "\\item 8\n",
       "\\item 11\n",
       "\\item -24\n",
       "\\end{enumerate*}\n"
      ],
      "text/markdown": [
       "1. 17\n",
       "2. -18\n",
       "3. 14\n",
       "4. -44\n",
       "5. 38\n",
       "6. 33\n",
       "7. -6\n",
       "8. 8\n",
       "9. 11\n",
       "10. -24\n",
       "\n",
       "\n"
      ],
      "text/plain": [
       " [1]  17 -18  14 -44  38  33  -6   8  11 -24"
      ]
     },
     "metadata": {},
     "output_type": "display_data"
    }
   ],
   "source": [
    "sample(-50:50,10,replace=T) "
   ]
  },
  {
   "cell_type": "markdown",
   "metadata": {},
   "source": [
    "5. Write a R program to get the first 10 Fibonacci numbers."
   ]
  },
  {
   "cell_type": "code",
   "execution_count": 83,
   "metadata": {},
   "outputs": [
    {
     "data": {
      "text/html": [
       "<ol class=list-inline>\n",
       "\t<li>0</li>\n",
       "\t<li>1</li>\n",
       "\t<li>1</li>\n",
       "\t<li>2</li>\n",
       "\t<li>3</li>\n",
       "\t<li>5</li>\n",
       "\t<li>8</li>\n",
       "\t<li>13</li>\n",
       "\t<li>21</li>\n",
       "\t<li>34</li>\n",
       "</ol>\n"
      ],
      "text/latex": [
       "\\begin{enumerate*}\n",
       "\\item 0\n",
       "\\item 1\n",
       "\\item 1\n",
       "\\item 2\n",
       "\\item 3\n",
       "\\item 5\n",
       "\\item 8\n",
       "\\item 13\n",
       "\\item 21\n",
       "\\item 34\n",
       "\\end{enumerate*}\n"
      ],
      "text/markdown": [
       "1. 0\n",
       "2. 1\n",
       "3. 1\n",
       "4. 2\n",
       "5. 3\n",
       "6. 5\n",
       "7. 8\n",
       "8. 13\n",
       "9. 21\n",
       "10. 34\n",
       "\n",
       "\n"
      ],
      "text/plain": [
       " [1]  0  1  1  2  3  5  8 13 21 34"
      ]
     },
     "metadata": {},
     "output_type": "display_data"
    }
   ],
   "source": [
    "x = c()\n",
    "for (i in 0:9){\n",
    "   if (i == 0){\n",
    "    x <- append(x, 0)\n",
    "}\n",
    "    else if (i == 1){\n",
    "    x <- append(x, x[1] + 1)\n",
    "} \n",
    "    else{\n",
    "        x <- append(x, sum(tail(x, 2)))\n",
    "    }\n",
    "}\n",
    "x"
   ]
  },
  {
   "cell_type": "markdown",
   "metadata": {},
   "source": [
    "6. Write a R program to get all prime numbers up to a given number (based on the sieve of Eratosthenes)."
   ]
  },
  {
   "cell_type": "code",
   "execution_count": 250,
   "metadata": {},
   "outputs": [
    {
     "name": "stdout",
     "output_type": "stream",
     "text": [
      "Sorry, there is no prime number in your number range"
     ]
    }
   ],
   "source": [
    "prime <- function(number){\n",
    "    l = c()\n",
    "    r = 2:(number-1)\n",
    "    x = r[order(r, decreasing = T)]\n",
    "    for (i in x){\n",
    "        if (number %% i == 0){\n",
    "            l <- append(l, i)\n",
    "        }\n",
    "    }\n",
    "    if (length(l) > 0){\n",
    "        cat(\"\\nThese are prime numbers given your provided number\\n\\n\")\n",
    "        cat(l)\n",
    "    }\n",
    "    else{\n",
    "        cat(\"Sorry, there is no prime number in your number range\")\n",
    "    }\n",
    "}\n",
    "prime(5)"
   ]
  },
  {
   "cell_type": "code",
   "execution_count": 251,
   "metadata": {},
   "outputs": [
    {
     "name": "stdout",
     "output_type": "stream",
     "text": [
      "\n",
      "These are prime numbers given your provided number\n",
      "\n",
      "4 2"
     ]
    }
   ],
   "source": [
    "prime(8)"
   ]
  },
  {
   "cell_type": "markdown",
   "metadata": {},
   "source": [
    "7. Write a R program to print the numbers from 1 to 100 and print \"Fizz\" for multiples of 3, print \"Buzz\" for multiples of 5, and print \"FizzBuzz\" for multiples of both."
   ]
  },
  {
   "cell_type": "code",
   "execution_count": 262,
   "metadata": {},
   "outputs": [
    {
     "name": "stdout",
     "output_type": "stream",
     "text": [
      "3 Fizz\n",
      "5 Buzz\n",
      "6 Fizz\n",
      "9 Fizz\n",
      "10 Buzz\n",
      "12 Fizz\n",
      "15 FizzBuzz\n",
      "18 Fizz\n",
      "20 Buzz\n",
      "21 Fizz\n",
      "24 Fizz\n",
      "25 Buzz\n",
      "27 Fizz\n",
      "30 FizzBuzz\n",
      "33 Fizz\n",
      "35 Buzz\n",
      "36 Fizz\n",
      "39 Fizz\n",
      "40 Buzz\n",
      "42 Fizz\n",
      "45 FizzBuzz\n",
      "48 Fizz\n",
      "50 Buzz\n",
      "51 Fizz\n",
      "54 Fizz\n",
      "55 Buzz\n",
      "57 Fizz\n",
      "60 FizzBuzz\n",
      "63 Fizz\n",
      "65 Buzz\n",
      "66 Fizz\n",
      "69 Fizz\n",
      "70 Buzz\n",
      "72 Fizz\n",
      "75 FizzBuzz\n",
      "78 Fizz\n",
      "80 Buzz\n",
      "81 Fizz\n",
      "84 Fizz\n",
      "85 Buzz\n",
      "87 Fizz\n",
      "90 FizzBuzz\n",
      "93 Fizz\n",
      "95 Buzz\n",
      "96 Fizz\n",
      "99 Fizz\n",
      "100 Buzz\n"
     ]
    }
   ],
   "source": [
    "for (i in 1:100){\n",
    "    if (i %% 5==0){\n",
    "        if (i %% 3==0){\n",
    "            cat(i, \"FizzBuzz\\n\")\n",
    "        }\n",
    "    else{\n",
    "        cat(i, \"Buzz\\n\")\n",
    "    }\n",
    "    }\n",
    "    else if (i %% 3==0){\n",
    "            cat(i, \"Fizz\\n\")\n",
    "        }\n",
    "}"
   ]
  },
  {
   "cell_type": "markdown",
   "metadata": {},
   "source": [
    "8. Write a R program to extract first 10 english letter in lower case and last 10 letters in upper case and extract letters between 22nd to 24th letters in upper case.\n",
    "\n"
   ]
  },
  {
   "cell_type": "code",
   "execution_count": 270,
   "metadata": {},
   "outputs": [
    {
     "data": {
      "text/html": [
       "<ol class=list-inline>\n",
       "\t<li>'a'</li>\n",
       "\t<li>'b'</li>\n",
       "\t<li>'c'</li>\n",
       "\t<li>'d'</li>\n",
       "\t<li>'e'</li>\n",
       "\t<li>'f'</li>\n",
       "\t<li>'g'</li>\n",
       "\t<li>'h'</li>\n",
       "\t<li>'i'</li>\n",
       "\t<li>'j'</li>\n",
       "</ol>\n"
      ],
      "text/latex": [
       "\\begin{enumerate*}\n",
       "\\item 'a'\n",
       "\\item 'b'\n",
       "\\item 'c'\n",
       "\\item 'd'\n",
       "\\item 'e'\n",
       "\\item 'f'\n",
       "\\item 'g'\n",
       "\\item 'h'\n",
       "\\item 'i'\n",
       "\\item 'j'\n",
       "\\end{enumerate*}\n"
      ],
      "text/markdown": [
       "1. 'a'\n",
       "2. 'b'\n",
       "3. 'c'\n",
       "4. 'd'\n",
       "5. 'e'\n",
       "6. 'f'\n",
       "7. 'g'\n",
       "8. 'h'\n",
       "9. 'i'\n",
       "10. 'j'\n",
       "\n",
       "\n"
      ],
      "text/plain": [
       " [1] \"a\" \"b\" \"c\" \"d\" \"e\" \"f\" \"g\" \"h\" \"i\" \"j\""
      ]
     },
     "metadata": {},
     "output_type": "display_data"
    },
    {
     "data": {
      "text/html": [
       "<ol class=list-inline>\n",
       "\t<li>'A'</li>\n",
       "\t<li>'B'</li>\n",
       "\t<li>'C'</li>\n",
       "\t<li>'D'</li>\n",
       "\t<li>'E'</li>\n",
       "\t<li>'F'</li>\n",
       "\t<li>'G'</li>\n",
       "\t<li>'H'</li>\n",
       "\t<li>'I'</li>\n",
       "\t<li>'J'</li>\n",
       "</ol>\n"
      ],
      "text/latex": [
       "\\begin{enumerate*}\n",
       "\\item 'A'\n",
       "\\item 'B'\n",
       "\\item 'C'\n",
       "\\item 'D'\n",
       "\\item 'E'\n",
       "\\item 'F'\n",
       "\\item 'G'\n",
       "\\item 'H'\n",
       "\\item 'I'\n",
       "\\item 'J'\n",
       "\\end{enumerate*}\n"
      ],
      "text/markdown": [
       "1. 'A'\n",
       "2. 'B'\n",
       "3. 'C'\n",
       "4. 'D'\n",
       "5. 'E'\n",
       "6. 'F'\n",
       "7. 'G'\n",
       "8. 'H'\n",
       "9. 'I'\n",
       "10. 'J'\n",
       "\n",
       "\n"
      ],
      "text/plain": [
       " [1] \"A\" \"B\" \"C\" \"D\" \"E\" \"F\" \"G\" \"H\" \"I\" \"J\""
      ]
     },
     "metadata": {},
     "output_type": "display_data"
    },
    {
     "data": {
      "text/html": [
       "<ol class=list-inline>\n",
       "\t<li>'V'</li>\n",
       "\t<li>'W'</li>\n",
       "\t<li>'X'</li>\n",
       "</ol>\n"
      ],
      "text/latex": [
       "\\begin{enumerate*}\n",
       "\\item 'V'\n",
       "\\item 'W'\n",
       "\\item 'X'\n",
       "\\end{enumerate*}\n"
      ],
      "text/markdown": [
       "1. 'V'\n",
       "2. 'W'\n",
       "3. 'X'\n",
       "\n",
       "\n"
      ],
      "text/plain": [
       "[1] \"V\" \"W\" \"X\""
      ]
     },
     "metadata": {},
     "output_type": "display_data"
    }
   ],
   "source": [
    "letters[1:10]\n",
    "LETTERS[1:10]\n",
    "LETTERS[22:24]"
   ]
  },
  {
   "cell_type": "markdown",
   "metadata": {},
   "source": [
    "9. Write a R program to find the factors of a given number."
   ]
  },
  {
   "cell_type": "code",
   "execution_count": 290,
   "metadata": {},
   "outputs": [
    {
     "name": "stdout",
     "output_type": "stream",
     "text": [
      "[1] 1\n",
      "[1] 2\n",
      "[1] 3\n",
      "[1] 4\n",
      "[1] 6\n",
      "[1] 8\n",
      "[1] 12\n",
      "[1] 16\n",
      "[1] 24\n",
      "[1] 48\n"
     ]
    }
   ],
   "source": [
    "fact <- function(number){\n",
    "    for (i in 1:number){\n",
    "        if (number %% i == 0){\n",
    "            print(i)\n",
    "        }\n",
    "    }\n",
    "}\n",
    "fact(48)"
   ]
  },
  {
   "cell_type": "markdown",
   "metadata": {},
   "source": [
    "10. Write a R program to find the maximum and the minimum value of a given vector."
   ]
  },
  {
   "cell_type": "code",
   "execution_count": 329,
   "metadata": {},
   "outputs": [
    {
     "name": "stdout",
     "output_type": "stream",
     "text": [
      "[1] 17\n"
     ]
    }
   ],
   "source": [
    "maxim <- function(vect){\n",
    "    x = vect[1]\n",
    "    for (i in vect){\n",
    "        if (i > x){\n",
    "            x <- i\n",
    "        } \n",
    "    }\n",
    "    print(x)\n",
    "}\n",
    "maxim(c(17,12,3))"
   ]
  },
  {
   "cell_type": "code",
   "execution_count": 330,
   "metadata": {},
   "outputs": [
    {
     "name": "stdout",
     "output_type": "stream",
     "text": [
      "[1] 3\n"
     ]
    }
   ],
   "source": [
    "minim <- function(vect){\n",
    "    x = vect[1]\n",
    "    for (i in vect){\n",
    "        if (i < x){\n",
    "            x <- i\n",
    "        } \n",
    "    }\n",
    "    print(x)\n",
    "}\n",
    "minim(c(17,12,3))"
   ]
  },
  {
   "cell_type": "markdown",
   "metadata": {},
   "source": [
    "11. Write a R program to get the unique elements of a given string and unique numbers of vector."
   ]
  },
  {
   "cell_type": "code",
   "execution_count": 342,
   "metadata": {},
   "outputs": [
    {
     "name": "stdout",
     "output_type": "stream",
     "text": [
      "[1]  4  3 22  5\n"
     ]
    }
   ],
   "source": [
    "unique_elements <- function(vect){\n",
    "    y <- vect[1]\n",
    "    for (i in vect){\n",
    "        if(!i %in% y){\n",
    "            y <- append(y, i)\n",
    "        }\n",
    "    }\n",
    "    print(y)\n",
    "}\n",
    "unique_elements(c(4,3,22,3,4,5,4,5,4,5))"
   ]
  },
  {
   "cell_type": "markdown",
   "metadata": {},
   "source": [
    "12. Write a R program to create three vectors a,b,c with 3 integers. Combine the three vectors to become a 3×3 matrix where each column represents a vector. Print the content of the matrix."
   ]
  },
  {
   "cell_type": "code",
   "execution_count": 353,
   "metadata": {},
   "outputs": [
    {
     "data": {
      "text/html": [
       "<table>\n",
       "<thead><tr><th scope=col>a</th><th scope=col>b</th><th scope=col>c</th></tr></thead>\n",
       "<tbody>\n",
       "\t<tr><td>1</td><td>4</td><td>7</td></tr>\n",
       "\t<tr><td>2</td><td>5</td><td>8</td></tr>\n",
       "\t<tr><td>3</td><td>6</td><td>9</td></tr>\n",
       "</tbody>\n",
       "</table>\n"
      ],
      "text/latex": [
       "\\begin{tabular}{lll}\n",
       " a & b & c\\\\\n",
       "\\hline\n",
       "\t 1 & 4 & 7\\\\\n",
       "\t 2 & 5 & 8\\\\\n",
       "\t 3 & 6 & 9\\\\\n",
       "\\end{tabular}\n"
      ],
      "text/markdown": [
       "\n",
       "| a | b | c |\n",
       "|---|---|---|\n",
       "| 1 | 4 | 7 |\n",
       "| 2 | 5 | 8 |\n",
       "| 3 | 6 | 9 |\n",
       "\n"
      ],
      "text/plain": [
       "     a b c\n",
       "[1,] 1 4 7\n",
       "[2,] 2 5 8\n",
       "[3,] 3 6 9"
      ]
     },
     "metadata": {},
     "output_type": "display_data"
    }
   ],
   "source": [
    "a <- 1:3\n",
    "b <- 4:6\n",
    "c <- 7:9\n",
    "\n",
    "\n",
    "my_matrix <- cbind(a,b,c)\n",
    "my_matrix"
   ]
  },
  {
   "cell_type": "markdown",
   "metadata": {},
   "source": [
    "13. Write a R program to create a list of random numbers in normal distribution and count occurrences of each value."
   ]
  },
  {
   "cell_type": "code",
   "execution_count": 395,
   "metadata": {},
   "outputs": [
    {
     "data": {
      "text/plain": [
       "\n",
       "   -2.59186500336074    -1.94044084640681    -1.82962801311145 \n",
       "                   1                    1                    1 \n",
       "   -1.80968878951787    -1.58203812635888    -1.28292871350947 \n",
       "                   1                    1                    1 \n",
       "   -1.17018147719521   -0.973939697511083   -0.928575651859901 \n",
       "                   1                    1                    1 \n",
       "  -0.928084485529726   -0.673997047545104   -0.606716608387691 \n",
       "                   1                    1                    1 \n",
       "  -0.456857333058752   -0.438239209702077   -0.391883282519013 \n",
       "                   1                    1                    1 \n",
       "  -0.316396206602274   -0.307568726510035   -0.256011096786542 \n",
       "                   1                    1                    1 \n",
       "  -0.158264153450751 0.000973613063710343    0.107605430028761 \n",
       "                   1                    1                    1 \n",
       "   0.172297467905706    0.282912375451972    0.319009977570502 \n",
       "                   1                    1                    1 \n",
       "    0.34872349709394    0.353526608358611    0.445423604757518 \n",
       "                   1                    1                    1 \n",
       "   0.461822663051666    0.570491846806724    0.578152408430353 \n",
       "                   1                    1                    1 \n",
       "   0.579795844259839    0.584924735429789    0.595903121607971 \n",
       "                   1                    1                    1 \n",
       "   0.598970487715717    0.757413298854161    0.775037745924627 \n",
       "                   1                    1                    1 \n",
       "   0.969358766789129     1.05350974617859     1.08593364392783 \n",
       "                   1                    1                    1 \n",
       "    1.29639824893666     1.35265425192907     1.44818893841569 \n",
       "                   1                    1                    1 \n",
       "    1.46374662971111      1.7136304569238     1.91421151615862 \n",
       "                   1                    1                    1 \n",
       "    2.06240398344733     2.15686613547154     2.18519229022277 \n",
       "                   1                    1                    1 \n",
       "    2.39143523865511     2.69731681660637 \n",
       "                   1                    1 "
      ]
     },
     "metadata": {},
     "output_type": "display_data"
    }
   ],
   "source": [
    "table(rnorm(50))"
   ]
  },
  {
   "cell_type": "markdown",
   "metadata": {},
   "source": [
    "14. Write a R program to read the .csv file and display the content."
   ]
  },
  {
   "cell_type": "code",
   "execution_count": null,
   "metadata": {},
   "outputs": [],
   "source": [
    "read.table\n",
    "read.csv\n",
    "read.csv2"
   ]
  },
  {
   "cell_type": "markdown",
   "metadata": {},
   "source": [
    "15. Write a R program to create three vectors numeric data, character data and logical data. Display the content of the vectors and their type."
   ]
  },
  {
   "cell_type": "code",
   "execution_count": 408,
   "metadata": {},
   "outputs": [
    {
     "name": "stdout",
     "output_type": "stream",
     "text": [
      "3 5 77 8 .......... numeric \n",
      "a b c d .......... character \n",
      "TRUE TRUE FALSE TRUE .......... logical \n"
     ]
    }
   ],
   "source": [
    "n = c(3, 5, 77, 8)\n",
    "c = c('a', 'b', 'c', 'd')\n",
    "l = c(T, T, F, T)\n",
    "for (i in list(n, c, l)){\n",
    "    cat(i, \"..........\", class(i), \"\\n\")\n",
    "}"
   ]
  },
  {
   "cell_type": "markdown",
   "metadata": {},
   "source": [
    "16. Write a R program to create a 5 x 4 matrix , 3 x 3 matrix with labels and fill the matrix by rows and 2 × 2 matrix with labels and fill the matrix by columns."
   ]
  },
  {
   "cell_type": "code",
   "execution_count": 434,
   "metadata": {
    "scrolled": true
   },
   "outputs": [
    {
     "data": {
      "text/html": [
       "<table>\n",
       "<thead><tr><th></th><th scope=col>A</th><th scope=col>B</th><th scope=col>C</th><th scope=col>D</th></tr></thead>\n",
       "<tbody>\n",
       "\t<tr><th scope=row>101</th><td> 1</td><td> 2</td><td> 3</td><td> 4</td></tr>\n",
       "\t<tr><th scope=row>102</th><td> 5</td><td> 6</td><td> 7</td><td> 8</td></tr>\n",
       "\t<tr><th scope=row>103</th><td> 9</td><td>10</td><td>11</td><td>12</td></tr>\n",
       "\t<tr><th scope=row>104</th><td>13</td><td>14</td><td>15</td><td>16</td></tr>\n",
       "\t<tr><th scope=row>105</th><td>17</td><td>18</td><td>19</td><td>20</td></tr>\n",
       "</tbody>\n",
       "</table>\n"
      ],
      "text/latex": [
       "\\begin{tabular}{r|llll}\n",
       "  & A & B & C & D\\\\\n",
       "\\hline\n",
       "\t101 &  1 &  2 &  3 &  4\\\\\n",
       "\t102 &  5 &  6 &  7 &  8\\\\\n",
       "\t103 &  9 & 10 & 11 & 12\\\\\n",
       "\t104 & 13 & 14 & 15 & 16\\\\\n",
       "\t105 & 17 & 18 & 19 & 20\\\\\n",
       "\\end{tabular}\n"
      ],
      "text/markdown": [
       "\n",
       "| <!--/--> | A | B | C | D |\n",
       "|---|---|---|---|---|\n",
       "| 101 |  1 |  2 |  3 |  4 |\n",
       "| 102 |  5 |  6 |  7 |  8 |\n",
       "| 103 |  9 | 10 | 11 | 12 |\n",
       "| 104 | 13 | 14 | 15 | 16 |\n",
       "| 105 | 17 | 18 | 19 | 20 |\n",
       "\n"
      ],
      "text/plain": [
       "    A  B  C  D \n",
       "101  1  2  3  4\n",
       "102  5  6  7  8\n",
       "103  9 10 11 12\n",
       "104 13 14 15 16\n",
       "105 17 18 19 20"
      ]
     },
     "metadata": {},
     "output_type": "display_data"
    }
   ],
   "source": [
    "my_matrix_by_row <- matrix(1:20, byrow = T, ncol = 4, dimnames = list(c(101:105), LETTERS[1:4]))\n",
    "my_matrix_by_row"
   ]
  },
  {
   "cell_type": "code",
   "execution_count": 438,
   "metadata": {},
   "outputs": [
    {
     "data": {
      "text/html": [
       "<table>\n",
       "<thead><tr><th></th><th scope=col>A</th><th scope=col>B</th></tr></thead>\n",
       "<tbody>\n",
       "\t<tr><th scope=row>101</th><td>101</td><td>103</td></tr>\n",
       "\t<tr><th scope=row>102</th><td>102</td><td>104</td></tr>\n",
       "</tbody>\n",
       "</table>\n"
      ],
      "text/latex": [
       "\\begin{tabular}{r|ll}\n",
       "  & A & B\\\\\n",
       "\\hline\n",
       "\t101 & 101 & 103\\\\\n",
       "\t102 & 102 & 104\\\\\n",
       "\\end{tabular}\n"
      ],
      "text/markdown": [
       "\n",
       "| <!--/--> | A | B |\n",
       "|---|---|---|\n",
       "| 101 | 101 | 103 |\n",
       "| 102 | 102 | 104 |\n",
       "\n"
      ],
      "text/plain": [
       "    A   B  \n",
       "101 101 103\n",
       "102 102 104"
      ]
     },
     "metadata": {},
     "output_type": "display_data"
    }
   ],
   "source": [
    "my_matrix_by_col <- matrix(101:104, byrow = F, ncol = 2, dimnames = list(c(101:102), LETTERS[1:2]))\n",
    "my_matrix_by_col"
   ]
  },
  {
   "cell_type": "markdown",
   "metadata": {},
   "source": [
    "17. Write a R program to create an array, passing in a vector of values and a vector of dimensions. Also provide names for each dimension."
   ]
  },
  {
   "cell_type": "code",
   "execution_count": 462,
   "metadata": {},
   "outputs": [
    {
     "data": {
      "text/html": [
       "<table>\n",
       "<thead><tr><th scope=col>A</th><th scope=col>B</th><th scope=col>C</th><th scope=col>D</th><th scope=col>E</th><th scope=col>F</th><th scope=col>G</th><th scope=col>H</th><th scope=col>I</th><th scope=col>J</th></tr></thead>\n",
       "<tbody>\n",
       "\t<tr><td> 5</td><td> 9</td><td> 3</td><td>10</td><td>11</td><td>12</td><td>13</td><td>14</td><td>15</td><td> 5</td></tr>\n",
       "\t<tr><td> 9</td><td> 3</td><td>10</td><td>11</td><td>12</td><td>13</td><td>14</td><td>15</td><td> 5</td><td> 9</td></tr>\n",
       "\t<tr><td> 3</td><td>10</td><td>11</td><td>12</td><td>13</td><td>14</td><td>15</td><td> 5</td><td> 9</td><td> 3</td></tr>\n",
       "\t<tr><td>10</td><td>11</td><td>12</td><td>13</td><td>14</td><td>15</td><td> 5</td><td> 9</td><td> 3</td><td>10</td></tr>\n",
       "\t<tr><td>11</td><td>12</td><td>13</td><td>14</td><td>15</td><td> 5</td><td> 9</td><td> 3</td><td>10</td><td>11</td></tr>\n",
       "\t<tr><td>12</td><td>13</td><td>14</td><td>15</td><td> 5</td><td> 9</td><td> 3</td><td>10</td><td>11</td><td>12</td></tr>\n",
       "\t<tr><td>13</td><td>14</td><td>15</td><td> 5</td><td> 9</td><td> 3</td><td>10</td><td>11</td><td>12</td><td>13</td></tr>\n",
       "\t<tr><td>14</td><td>15</td><td> 5</td><td> 9</td><td> 3</td><td>10</td><td>11</td><td>12</td><td>13</td><td>14</td></tr>\n",
       "\t<tr><td>15</td><td> 5</td><td> 9</td><td> 3</td><td>10</td><td>11</td><td>12</td><td>13</td><td>14</td><td>15</td></tr>\n",
       "\t<tr><td> 5</td><td> 9</td><td> 3</td><td>10</td><td>11</td><td>12</td><td>13</td><td>14</td><td>15</td><td> 5</td></tr>\n",
       "</tbody>\n",
       "</table>\n"
      ],
      "text/latex": [
       "\\begin{tabular}{r|llllllllll}\n",
       " A & B & C & D & E & F & G & H & I & J\\\\\n",
       "\\hline\n",
       "\t  5 &  9 &  3 & 10 & 11 & 12 & 13 & 14 & 15 &  5\\\\\n",
       "\t  9 &  3 & 10 & 11 & 12 & 13 & 14 & 15 &  5 &  9\\\\\n",
       "\t  3 & 10 & 11 & 12 & 13 & 14 & 15 &  5 &  9 &  3\\\\\n",
       "\t 10 & 11 & 12 & 13 & 14 & 15 &  5 &  9 &  3 & 10\\\\\n",
       "\t 11 & 12 & 13 & 14 & 15 &  5 &  9 &  3 & 10 & 11\\\\\n",
       "\t 12 & 13 & 14 & 15 &  5 &  9 &  3 & 10 & 11 & 12\\\\\n",
       "\t 13 & 14 & 15 &  5 &  9 &  3 & 10 & 11 & 12 & 13\\\\\n",
       "\t 14 & 15 &  5 &  9 &  3 & 10 & 11 & 12 & 13 & 14\\\\\n",
       "\t 15 &  5 &  9 &  3 & 10 & 11 & 12 & 13 & 14 & 15\\\\\n",
       "\t  5 &  9 &  3 & 10 & 11 & 12 & 13 & 14 & 15 &  5\\\\\n",
       "\\end{tabular}\n"
      ],
      "text/markdown": [
       "\n",
       "| A | B | C | D | E | F | G | H | I | J |\n",
       "|---|---|---|---|---|---|---|---|---|---|\n",
       "|  5 |  9 |  3 | 10 | 11 | 12 | 13 | 14 | 15 |  5 |\n",
       "|  9 |  3 | 10 | 11 | 12 | 13 | 14 | 15 |  5 |  9 |\n",
       "|  3 | 10 | 11 | 12 | 13 | 14 | 15 |  5 |  9 |  3 |\n",
       "| 10 | 11 | 12 | 13 | 14 | 15 |  5 |  9 |  3 | 10 |\n",
       "| 11 | 12 | 13 | 14 | 15 |  5 |  9 |  3 | 10 | 11 |\n",
       "| 12 | 13 | 14 | 15 |  5 |  9 |  3 | 10 | 11 | 12 |\n",
       "| 13 | 14 | 15 |  5 |  9 |  3 | 10 | 11 | 12 | 13 |\n",
       "| 14 | 15 |  5 |  9 |  3 | 10 | 11 | 12 | 13 | 14 |\n",
       "| 15 |  5 |  9 |  3 | 10 | 11 | 12 | 13 | 14 | 15 |\n",
       "|  5 |  9 |  3 | 10 | 11 | 12 | 13 | 14 | 15 |  5 |\n",
       "\n"
      ],
      "text/plain": [
       "   A  B  C  D  E  F  G  H  I  J \n",
       "1   5  9  3 10 11 12 13 14 15  5\n",
       "2   9  3 10 11 12 13 14 15  5  9\n",
       "3   3 10 11 12 13 14 15  5  9  3\n",
       "4  10 11 12 13 14 15  5  9  3 10\n",
       "5  11 12 13 14 15  5  9  3 10 11\n",
       "6  12 13 14 15  5  9  3 10 11 12\n",
       "7  13 14 15  5  9  3 10 11 12 13\n",
       "8  14 15  5  9  3 10 11 12 13 14\n",
       "9  15  5  9  3 10 11 12 13 14 15\n",
       "10  5  9  3 10 11 12 13 14 15  5"
      ]
     },
     "metadata": {},
     "output_type": "display_data"
    }
   ],
   "source": [
    "vector <- c(5,9,3, 10,11,12,13,14,15, 5,9,3, 10,11,12,13,14,15)\n",
    "arr <- array(vector,dim = c(10,10), dimnames = c(list(1:10),list(LETTERS[1:10])))\n",
    "arr"
   ]
  },
  {
   "cell_type": "markdown",
   "metadata": {},
   "source": [
    "18. Write a R program to create an array with three columns, three rows, and two \"tables\", taking two  vectors as input to the array.  Print the array."
   ]
  },
  {
   "cell_type": "markdown",
   "metadata": {},
   "source": [
    "19. Write a R program to create a list of elements using vectors, matrices and a functions. Print the content of the list."
   ]
  },
  {
   "cell_type": "markdown",
   "metadata": {},
   "source": [
    "20. Write a R program to draw an empty plot and an empty plot specify the axes limits of the graphic."
   ]
  },
  {
   "cell_type": "markdown",
   "metadata": {},
   "source": [
    "21. Write a R program to create a simple bar plot of five subjects marks."
   ]
  },
  {
   "cell_type": "markdown",
   "metadata": {},
   "source": [
    "22. Write a R program to create  bell curve of a random normal distribution."
   ]
  },
  {
   "cell_type": "markdown",
   "metadata": {},
   "source": [
    "23. Write a R program to compute sum, mean and product of a given vector elements."
   ]
  },
  {
   "cell_type": "markdown",
   "metadata": {},
   "source": [
    "24. Write a R program to create a list of heterogeneous data, which include character, numeric and logical vectors. Print the lists."
   ]
  },
  {
   "cell_type": "markdown",
   "metadata": {},
   "source": [
    "25. Write a R program to create a Dataframes which contain details of 5 employees and display the details."
   ]
  },
  {
   "cell_type": "markdown",
   "metadata": {},
   "source": [
    "26. Write a R program to create a Data Frames which contain details of 5 employees and display summary of the data."
   ]
  },
  {
   "cell_type": "markdown",
   "metadata": {},
   "source": [
    "27. Write a R program to create the systems idea of the current date with and without time."
   ]
  },
  {
   "cell_type": "code",
   "execution_count": null,
   "metadata": {},
   "outputs": [],
   "source": []
  },
  {
   "cell_type": "code",
   "execution_count": null,
   "metadata": {},
   "outputs": [],
   "source": []
  },
  {
   "cell_type": "code",
   "execution_count": null,
   "metadata": {},
   "outputs": [],
   "source": []
  }
 ],
 "metadata": {
  "kernelspec": {
   "display_name": "R",
   "language": "R",
   "name": "ir"
  },
  "language_info": {
   "codemirror_mode": "r",
   "file_extension": ".r",
   "mimetype": "text/x-r-source",
   "name": "R",
   "pygments_lexer": "r",
   "version": "3.4.4"
  }
 },
 "nbformat": 4,
 "nbformat_minor": 2
}
