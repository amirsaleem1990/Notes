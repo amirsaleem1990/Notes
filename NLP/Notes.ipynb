{
 "cells": [
  {
   "cell_type": "markdown",
   "metadata": {},
   "source": [
    "<img src=\"images_for_notebook/Libraries and tools.bmp\">\n",
    "# Sentiment Classification\n",
    "<img src = \"images_for_notebook/Sentiment_classification.bmp\", width = 400, height = 400>\n",
    "#### it tries to predict the probability of review been a positive one given the features that we gave that model at paticuler review, the features is vector of tfitf values, you can find a weight of any feature of that BOW representation, you can multiply each tfitf value by that weight, then sum all fo that things, and pass it through sigmoid activation function, thats hwo to get logistice regression model.\n",
    "#### the weights that we get after the training can be interpreted.\n",
    "<img src=\"images_for_notebook/training_weights_using_logistic_regression.bmp\", height = 400, width = 400>\n",
    "#### yahan modle ny jo weights nikaly hen wo us ki learning from our training data h, predefine ko information model k paas nahi thi\n",
    "# Let's try to add 2-grams\n",
    "<img src=\"images_for_notebook/with_2_grams.bmp\", height = 400, width = 400>\n",
    "<img src=\"images_for_notebook/image5.png\", height = 400, width = 400>\n",
    "# How to make results even better\n",
    "<img src=\"images_for_notebook/image6.png\", width = 400, height = 400>"
   ]
  },
  {
   "cell_type": "markdown",
   "metadata": {},
   "source": [
    "# python TF-IDF example"
   ]
  },
  {
   "cell_type": "code",
   "execution_count": null,
   "metadata": {
    "collapsed": true
   },
   "outputs": [],
   "source": [
    "from sklearn.feature_extraction.text import TfidfVectorizer\n",
    "import pandas as pd\n",
    "texts = ['good movie', 'not a good movie', 'did not like', 'i like it', 'good one']\n",
    "tfidf = TfidfVectorizer(min_df=2, max_df = 0.5, ngram_range=(1,2))\n",
    "features = tfidf.fit_transform(texts)\n",
    "pd.DataFrame(features.todense(), columns=tfidf.get_feature_names())"
   ]
  },
  {
   "cell_type": "markdown",
   "metadata": {},
   "source": [
    "# deffirent Tokenize ways"
   ]
  },
  {
   "cell_type": "code",
   "execution_count": null,
   "metadata": {
    "collapsed": true
   },
   "outputs": [],
   "source": [
    "text = \"This is Andrew's text, isn't it?\"\n",
    "\n",
    "from nltk.tokenize import WordPunctTokenizer\n",
    "tokenizer = WordPunctTokenizer()\n",
    "tokens = tokenizer.tokenize(text)\n",
    "print(len(tokens), '\\n', tokens)"
   ]
  },
  {
   "cell_type": "code",
   "execution_count": null,
   "metadata": {
    "collapsed": true
   },
   "outputs": [],
   "source": [
    "from nltk.tokenize import TreebankWordTokenizer\n",
    "# uses gramer rules of english lanugage to make a tokenization \n",
    "# is actualy make sence for further analysis, and it is very close\n",
    "# to perfect tokenization we want for english language \n",
    "tokenizer = TreebankWordTokenizer()\n",
    "tokens = tokenizer.tokenize(text)\n",
    "print(len(tokens), '\\n', tokens)"
   ]
  },
  {
   "cell_type": "code",
   "execution_count": null,
   "metadata": {
    "collapsed": true
   },
   "outputs": [],
   "source": [
    "tokens = text.split(' ')\n",
    "print(len(tokens), '\\n', tokens)"
   ]
  },
  {
   "cell_type": "markdown",
   "metadata": {},
   "source": [
    "# Token normalization\n",
    "<img src=\"images_for_notebook/image7.png\", height = 400, width = 400>\n",
    "### stemming example\n",
    "<img src=\"images_for_notebook/image8.png\", height = 400, width = 400>\n",
    "<img src=\"images_for_notebook/image11.png\", width = 400, height = 400>\n",
    "### Lemmatization example\n",
    "<img src=\"images_for_notebook/image9.png\", height = 400, width = 400>\n",
    "### Further normalization\n",
    "<img src=\"images_for_notebook/image12.png\", width = 400, height = 400>\n",
    "### Note: we try both <font color='red'>Stemming</font> and <font color='red'>Lemmitization</font> and decide which work best\n",
    "# Hashing"
   ]
  },
  {
   "cell_type": "code",
   "execution_count": null,
   "metadata": {
    "collapsed": true
   },
   "outputs": [],
   "source": [
    "from IPython.lib.display import YouTubeVideo\n",
    "YouTubeVideo('xo9Vsfzfg8g', width=900, height = 500)"
   ]
  },
  {
   "cell_type": "markdown",
   "metadata": {},
   "source": [
    "# Vowpal Wabbit\n",
    "<img src=\"images_for_notebook/image18.png\", width = 800, height = 400>\n",
    "# Naeural networks for text\n",
    "## word2vec \n",
    "### pretrained embeddings, it is done unsupervised meners.\n",
    "### words that have similar context tend to have collinear vectors\n",
    "<img src=\"images_for_notebook/image19.png\", width = 400, height = 300>\n",
    "# *You can just average pre-grained word2vec vectors for your text\n",
    "# *You can do better with 1D convolutions that learn more complex features\n",
    "# 1D Convolutions\n",
    "<img src=\"images_for_notebook/image20.png\", width = 400, height = 300>\n",
    "<img src=\"images_for_notebook/image21.png\", width = 400, height = 300>\n",
    "<img src=\"images_for_notebook/image22.png\", width = 400, height = 300>\n",
    "# 1D convolutions on chracters\n",
    "<img src=\"images_for_notebook/image24.png\", width = 400, height = 300>\n",
    "<img src=\"images_for_notebook/image25.png\", width = 400, height = 300>\n",
    "<img src=\"images_for_notebook/image26.png\", width = 400, height = 300>\n",
    "# Max pooling\n",
    "<img src=\"images_for_notebook/image27.png\", width = 400, height = 300>\n",
    "<img src=\"images_for_notebook/image28.png\", width = 400, height = 300>\n",
    "<img src=\"images_for_notebook/image29.png\", width = 400, height = 300>\n",
    "<img src=\"images_for_notebook/image30.png\", width = 400, height = 300>\n",
    "# Deep models work better for large datasets\n",
    "### Experimental datasets\n",
    "<img src=\"images_for_notebook/image31.png\", width = 400, height = 300>\n",
    "<img src=\"images_for_notebook/image32.png\", width = 400, height = 300>\n",
    "# Summary:\n",
    "### You can use convolutional networks on top of characters (called learning from scratch)\n",
    "### it works for large datasets where it beats classical approached (like BOW)\n",
    "### Sometimes it even beats LSTM that works on word level\n",
    "# <h1><center><font size=\"10\"><font color='red'>WEEK 2</font></font></h1></center>\n",
    "## Sequence lebeling\n",
    "<img src=\"images_for_notebook/image33.png\", width = 400, height = 300>\n",
    "## PoS tags from Universal Dependencies project\n",
    "<img src=\"images_for_notebook/image34.png\", width = 400, height = 300>\n",
    "## Approaches to sequence labeling\n",
    "<img src=\"images_for_notebook/image35.png\", width = 400, height = 300>\n",
    "### Pos tagging with HMMs\n",
    "<img src=\"images_for_notebook/image36.png\", width = 400, height = 300>\n",
    "<img src=\"images_for_notebook/image37.png\", width = 400, height = 300>\n",
    "### Text generation in HMM: an example\n",
    "<img src=\"images_for_notebook/image38.png\", width = 400, height = 300>\n",
    "# Cook your own Language Model\n",
    "<img src=\"images_for_notebook/image39.png\", width = 400, height = 300>\n",
    "# <h1><center><font size=\"10\"><font color='red'>WEEK 3</font></font></h1></center>\n",
    "# Word2vec and doc2vec\n",
    "<img src=\"images_for_notebook/image40.png\", width = 400, height = 300>\n",
    "### Word2vec works some times, but not always.\n",
    "# Topic modeling\n",
    "## Libraries for topic modeling\n",
    "<img src=\"images_for_notebook/image41.png\", width = 400, height = 300>\n",
    "## Topic visulization\n",
    "# textvis.lnu.se\n",
    "### this website contains 380 ways to visulize topics\n",
    "<img src=\"images_for_notebook/image42.png\", width = 400, height = 300>\n",
    "# <h1><center><font size=\"10\"><font color='red'>WEEK 4</font></font></h1></center>\n",
    "# Summarization\n",
    "<img src=\"images_for_notebook/image43.png\", width = 400, height = 300>\n",
    "<img src=\"images_for_notebook/image44.png\", width = 400, height = 300>\n",
    "# Simplification\n",
    "<img src=\"images_for_notebook/image45.png\", width = 400, height = 300>\n",
    "<img src=\"images_for_notebook/image46.png\", width = 400, height = 300>\n",
    "<img src=\"images_for_notebook/image47.png\", width = 400, height = 300>\n"
   ]
  },
  {
   "cell_type": "code",
   "execution_count": null,
   "metadata": {},
   "outputs": [],
   "source": []
  }
 ],
 "metadata": {
  "kernelspec": {
   "display_name": "Python 3",
   "language": "python",
   "name": "python3"
  },
  "language_info": {
   "codemirror_mode": {
    "name": "ipython",
    "version": 3
   },
   "file_extension": ".py",
   "mimetype": "text/x-python",
   "name": "python",
   "nbconvert_exporter": "python",
   "pygments_lexer": "ipython3",
   "version": "3.6.4"
  }
 },
 "nbformat": 4,
 "nbformat_minor": 2
}
